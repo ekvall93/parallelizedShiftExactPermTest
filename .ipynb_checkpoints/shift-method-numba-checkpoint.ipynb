{
 "cells": [
  {
   "cell_type": "code",
   "execution_count": 1,
   "metadata": {},
   "outputs": [],
   "source": [
    "import numpy as np\n",
    "from numba import cuda\n",
    "import time\n",
    "import matplotlib.pyplot as plt"
   ]
  },
  {
   "cell_type": "code",
   "execution_count": null,
   "metadata": {},
   "outputs": [],
   "source": [
    "t = np.ones([2,2])"
   ]
  },
  {
   "cell_type": "code",
   "execution_count": null,
   "metadata": {},
   "outputs": [],
   "source": [
    "p = np.ones([2,2]) * 2 "
   ]
  },
  {
   "cell_type": "code",
   "execution_count": null,
   "metadata": {},
   "outputs": [],
   "source": [
    "stream = cuda.stream()"
   ]
  },
  {
   "cell_type": "code",
   "execution_count": null,
   "metadata": {},
   "outputs": [],
   "source": [
    "A0 = cuda.to_device(t, stream)"
   ]
  },
  {
   "cell_type": "code",
   "execution_count": null,
   "metadata": {},
   "outputs": [],
   "source": [
    "A1 = cuda.to_device(p, stream)"
   ]
  },
  {
   "cell_type": "code",
   "execution_count": null,
   "metadata": {},
   "outputs": [],
   "source": [
    "dt.device_ctypes_pointer"
   ]
  },
  {
   "cell_type": "code",
   "execution_count": null,
   "metadata": {},
   "outputs": [],
   "source": [
    "dp.device_ctypes_pointer"
   ]
  },
  {
   "cell_type": "code",
   "execution_count": null,
   "metadata": {},
   "outputs": [],
   "source": [
    "tmp1 = A0\n",
    "tmp2 = A1"
   ]
  },
  {
   "cell_type": "code",
   "execution_count": null,
   "metadata": {},
   "outputs": [],
   "source": [
    "A0 = tmp2\n",
    "A1 = tmp1"
   ]
  },
  {
   "cell_type": "markdown",
   "metadata": {},
   "source": [
    "Måste göra en separat arrat för ZZZZZ :@"
   ]
  },
  {
   "cell_type": "code",
   "execution_count": null,
   "metadata": {},
   "outputs": [],
   "source": [
    "dt = dp"
   ]
  },
  {
   "cell_type": "code",
   "execution_count": null,
   "metadata": {},
   "outputs": [],
   "source": [
    "dt.get_ipc_handle()"
   ]
  },
  {
   "cell_type": "code",
   "execution_count": null,
   "metadata": {},
   "outputs": [],
   "source": [
    "dt.device_ctypes_pointer"
   ]
  },
  {
   "cell_type": "code",
   "execution_count": null,
   "metadata": {},
   "outputs": [],
   "source": [
    "dt.setitem([0,0],2,stream)"
   ]
  },
  {
   "cell_type": "code",
   "execution_count": null,
   "metadata": {},
   "outputs": [],
   "source": [
    "dt"
   ]
  },
  {
   "cell_type": "code",
   "execution_count": null,
   "metadata": {},
   "outputs": [],
   "source": []
  },
  {
   "cell_type": "code",
   "execution_count": null,
   "metadata": {},
   "outputs": [],
   "source": [
    "dt.copy_to_device(dp)"
   ]
  },
  {
   "cell_type": "code",
   "execution_count": null,
   "metadata": {},
   "outputs": [],
   "source": [
    "stream.synchronize()"
   ]
  },
  {
   "cell_type": "code",
   "execution_count": null,
   "metadata": {},
   "outputs": [],
   "source": [
    "dt.to_host(stream)"
   ]
  },
  {
   "cell_type": "code",
   "execution_count": null,
   "metadata": {},
   "outputs": [],
   "source": [
    "t"
   ]
  },
  {
   "cell_type": "code",
   "execution_count": null,
   "metadata": {},
   "outputs": [],
   "source": [
    "T.shape"
   ]
  },
  {
   "cell_type": "code",
   "execution_count": null,
   "metadata": {},
   "outputs": [],
   "source": [
    "p"
   ]
  },
  {
   "cell_type": "code",
   "execution_count": null,
   "metadata": {},
   "outputs": [],
   "source": [
    "from utils import significance_of_mean"
   ]
  },
  {
   "cell_type": "markdown",
   "metadata": {},
   "source": [
    "### Synthetic data"
   ]
  },
  {
   "cell_type": "code",
   "execution_count": 2,
   "metadata": {},
   "outputs": [],
   "source": [
    "listsizes = [20,60,120,160,200]\n",
    "args_list = list()\n",
    "for ls in listsizes:\n",
    "    x = list(np.random.randint(0,400,ls))\n",
    "    y = list(np.random.randint(0,200,ls))\n",
    "    m = len(x)\n",
    "    n = len(y)\n",
    "    z = x + y;z.sort()\n",
    "    S = sum(z[m:])\n",
    "    dtype = np.uint16\n",
    "    args_list.append([m,n,S,z,dtype])\n"
   ]
  },
  {
   "cell_type": "code",
   "execution_count": 3,
   "metadata": {},
   "outputs": [],
   "source": [
    "np.random.seed(1)\n",
    "#A = np.asarray([np.random.beta(2.0,5.0,7) for _ in range(1)])\n",
    "#B = np.asarray([np.random.beta(2.0,5.0,20) for _ in range(1)])\n",
    "A = np.asarray([np.random.randint(0,5,2) for _ in range(1)])\n",
    "B = np.asarray([np.random.randint(0,5,2) for _ in range(1)])\n"
   ]
  },
  {
   "cell_type": "code",
   "execution_count": 4,
   "metadata": {},
   "outputs": [],
   "source": [
    "args_list = list()\n",
    "x = list(A[0])\n",
    "y = list(B[0])\n",
    "m = len(x)\n",
    "n = len(y)\n",
    "z = x + y;z.sort()\n",
    "S = sum(z[m:])\n",
    "dtype = np.uint16\n",
    "args_list.append([m,n,S,z,dtype])"
   ]
  },
  {
   "cell_type": "code",
   "execution_count": 5,
   "metadata": {},
   "outputs": [],
   "source": [
    "num_bin = np.ceil(max(z)) - np.floor(min(z)) + 1"
   ]
  },
  {
   "cell_type": "markdown",
   "metadata": {},
   "source": [
    "### Mimic R's \"table(factor(x, y))\" function"
   ]
  },
  {
   "cell_type": "code",
   "execution_count": 6,
   "metadata": {},
   "outputs": [],
   "source": [
    "def table(val, S):\n",
    "    table = np.zeros(S + 1)\n",
    "    for e in val:\n",
    "        table[e] +=1\n",
    "    return table"
   ]
  },
  {
   "cell_type": "markdown",
   "metadata": {},
   "source": [
    "### Shift-function "
   ]
  },
  {
   "cell_type": "code",
   "execution_count": 7,
   "metadata": {},
   "outputs": [],
   "source": [
    "def shift(v, i): return np.pad(v[0:len(v) - i], (i,0), 'constant')"
   ]
  },
  {
   "cell_type": "markdown",
   "metadata": {},
   "source": [
    "# Exact permutation test with the shift-method"
   ]
  },
  {
   "cell_type": "code",
   "execution_count": 8,
   "metadata": {},
   "outputs": [],
   "source": [
    "def exact_perm_shift1(m, n, S, z, dtype):\n",
    "    N = np.zeros([S + 1, m + n, m], dtype)\n",
    "    for k in range(1,(m+n)+1):\n",
    "        N[:,k -1,0] = table(z[0:k],S)\n",
    "    \n",
    "    for k in range(2,(m+n)+1):\n",
    "        for j in range(2, m +1):\n",
    "            N[:,k-1,j-1] = shift(N[:,k-2,j-2], z[k -1]) + N[:,k-2,j-1]\n",
    "    return N[:,-1,-1]"
   ]
  },
  {
   "cell_type": "code",
   "execution_count": 9,
   "metadata": {},
   "outputs": [],
   "source": [
    "def exact_perm_shift2(m, n, S, z, dtype):\n",
    "    init = np.zeros([S + 1, m + n], dtype)\n",
    "    for k in range(1,(m+n)+1):\n",
    "        init[:,k -1] = table(z[0:k],S)\n",
    "\n",
    "    \n",
    "    N = np.zeros([S + 1, m], dtype)\n",
    "    N_old = N.copy()\n",
    "    for k in range(1,(m+n)+1):\n",
    "        if k==1:\n",
    "            N[:,0] = init[:,0]\n",
    "        else:\n",
    "            for j in range(1, m +1):\n",
    "                if j == 1:\n",
    "                    N[:,j-1] = init[:,k-1]\n",
    "                else:\n",
    "                    #N[:,k-1] = shift(N_old[:,k-2], z[k -1]) + N[:,k-2]\n",
    "                    N[:,j-1] = shift(N_old[:,j-2], z[k -1]) + N_old[:,j-1]\n",
    "        #print(\"-------\",k,\"--------------\")\n",
    "        #print(N)\n",
    "        N_old = N.copy()\n",
    "        #N = np.zeros([S + 1, m], dtype)\n",
    "\n",
    "    return N_old[:,-1]"
   ]
  },
  {
   "cell_type": "code",
   "execution_count": 29,
   "metadata": {},
   "outputs": [],
   "source": [
    "def exact_perm_shift2(m, n, S, z, dtype):\n",
    "    N = np.zeros([S + 1, m], dtype)\n",
    "    N_old = N.copy()\n",
    "    \n",
    "    for k in range(1,(m+n)+1):\n",
    "        if k==1:\n",
    "            N[z[k-1],0] += 1\n",
    "\n",
    "        else:\n",
    "            for j in range(1, m +1):\n",
    "                if j == 1:\n",
    "                    N[z[k-1],0] += 1\n",
    "                else:\n",
    "                    for i in range(S+1):        \n",
    "                        if i >= z[k-1]:\n",
    "                            #print(i,i - z[k -1], j-1, N_old[i - z[k -1], j-2])\n",
    "                            N[i,j-1] = N_old[i - z[k -1], j-2] + N_old[i,j-1]\n",
    "                        else:\n",
    "                            #print(i,j-1, N_old[i,j-1])\n",
    "                            N[i,j-1] = N_old[i,j-1]\n",
    "                            #N[i,j-1] =0\n",
    "        #print(N)\n",
    "        N_old = N.copy()\n",
    "        print(N)\n",
    "        #N = np.zeros([S + 1, m], dtype)\n",
    "\n",
    "    return N_old[:,-1]"
   ]
  },
  {
   "cell_type": "markdown",
   "metadata": {},
   "source": [
    "USE THIS! But have to explain why the non-zero verison works though!!!!!"
   ]
  },
  {
   "cell_type": "code",
   "execution_count": 55,
   "metadata": {},
   "outputs": [],
   "source": [
    "def exact_perm_shift3(m, n, S, z, dtype):\n",
    "    N = np.zeros([S + 1, m], dtype)\n",
    "    N_old = N.copy()\n",
    "    \n",
    "    for k in range(1,(m+n)+1):\n",
    "        if k==1:\n",
    "            N[z[k-1],0] += 1\n",
    "\n",
    "        else:\n",
    "            for j in range(1, m +1):\n",
    "                for i in range(S+1):   \n",
    "                    if j == 1:\n",
    "                        if i == z[k-1]:\n",
    "                            N[z[k-1],0] =  N_old[z[k-1],0] + 1\n",
    "                        else:\n",
    "                            N[i,0] = N_old[i,0]\n",
    "                            \n",
    "                    else:\n",
    "                        if i >= z[k-1]:\n",
    "                            #print(i,i - z[k -1], j-1, N_old[i - z[k -1], j-2])\n",
    "                            N[i,j-1] = N_old[i - z[k -1], j-2] + N_old[i,j-1]\n",
    "                        else:\n",
    "                            #print(i,j-1, N_old[i,j-1])\n",
    "                            N[i,j-1] = N_old[i,j-1]\n",
    "                            #N[i,j-1] =0\n",
    "        \n",
    "        print(N)\n",
    "        tmp = N.copy()\n",
    "        N = N_old\n",
    "        N_old = tmp\n",
    "        #print(N)\n",
    "        #N = np.zeros([S + 1, m], dtype)\n",
    "\n",
    "    return N_old[:,-1]"
   ]
  },
  {
   "cell_type": "code",
   "execution_count": 56,
   "metadata": {},
   "outputs": [
    {
     "name": "stdout",
     "output_type": "stream",
     "text": [
      "[[1 0]\n",
      " [0 0]\n",
      " [0 0]\n",
      " [0 0]\n",
      " [0 0]\n",
      " [0 0]\n",
      " [0 0]\n",
      " [0 0]]\n",
      "[[1 0]\n",
      " [1 1]\n",
      " [0 0]\n",
      " [0 0]\n",
      " [0 0]\n",
      " [0 0]\n",
      " [0 0]\n",
      " [0 0]]\n",
      "[[1 0]\n",
      " [1 1]\n",
      " [0 0]\n",
      " [1 1]\n",
      " [0 1]\n",
      " [0 0]\n",
      " [0 0]\n",
      " [0 0]]\n",
      "[[1 0]\n",
      " [1 1]\n",
      " [0 0]\n",
      " [1 1]\n",
      " [1 2]\n",
      " [0 1]\n",
      " [0 0]\n",
      " [0 1]]\n"
     ]
    },
    {
     "data": {
      "text/plain": [
       "array([0, 1, 0, 1, 2, 1, 0, 1], dtype=uint16)"
      ]
     },
     "execution_count": 56,
     "metadata": {},
     "output_type": "execute_result"
    }
   ],
   "source": [
    "exact_perm_shift2(m, n, S, z, dtype)"
   ]
  },
  {
   "cell_type": "code",
   "execution_count": 57,
   "metadata": {},
   "outputs": [
    {
     "name": "stdout",
     "output_type": "stream",
     "text": [
      "[[0 0]\n",
      " [0 0]\n",
      " [0 0]\n",
      " [0 0]\n",
      " [0 0]\n",
      " [0 0]\n",
      " [0 0]\n",
      " [0 0]]\n",
      "[[1 0]\n",
      " [0 0]\n",
      " [0 0]\n",
      " [0 0]\n",
      " [0 0]\n",
      " [0 0]\n",
      " [0 0]\n",
      " [0 0]]\n",
      "[[1 0]\n",
      " [1 1]\n",
      " [0 0]\n",
      " [0 0]\n",
      " [0 0]\n",
      " [0 0]\n",
      " [0 0]\n",
      " [0 0]]\n",
      "[[1 0]\n",
      " [1 1]\n",
      " [0 0]\n",
      " [1 1]\n",
      " [0 1]\n",
      " [0 0]\n",
      " [0 0]\n",
      " [0 0]]\n"
     ]
    },
    {
     "data": {
      "text/plain": [
       "array([0, 1, 0, 1, 2, 1, 0, 1], dtype=uint16)"
      ]
     },
     "execution_count": 57,
     "metadata": {},
     "output_type": "execute_result"
    }
   ],
   "source": [
    "exact_perm_shift3(m, n, S, z, dtype)"
   ]
  },
  {
   "cell_type": "code",
   "execution_count": 58,
   "metadata": {},
   "outputs": [
    {
     "name": "stdout",
     "output_type": "stream",
     "text": [
      "[[1 0]\n",
      " [0 0]\n",
      " [0 0]\n",
      " [0 0]\n",
      " [0 0]\n",
      " [0 0]\n",
      " [0 0]\n",
      " [0 0]]\n",
      "[[1 0]\n",
      " [1 1]\n",
      " [0 0]\n",
      " [0 0]\n",
      " [0 0]\n",
      " [0 0]\n",
      " [0 0]\n",
      " [0 0]]\n",
      "[[1 0]\n",
      " [1 1]\n",
      " [0 0]\n",
      " [1 1]\n",
      " [0 1]\n",
      " [0 0]\n",
      " [0 0]\n",
      " [0 0]]\n",
      "[[1 0]\n",
      " [1 1]\n",
      " [0 0]\n",
      " [1 1]\n",
      " [1 2]\n",
      " [0 1]\n",
      " [0 0]\n",
      " [0 1]]\n",
      "[[0 0]\n",
      " [0 0]\n",
      " [0 0]\n",
      " [0 0]\n",
      " [0 0]\n",
      " [0 0]\n",
      " [0 0]\n",
      " [0 0]]\n",
      "[[1 0]\n",
      " [0 0]\n",
      " [0 0]\n",
      " [0 0]\n",
      " [0 0]\n",
      " [0 0]\n",
      " [0 0]\n",
      " [0 0]]\n",
      "[[1 0]\n",
      " [1 1]\n",
      " [0 0]\n",
      " [0 0]\n",
      " [0 0]\n",
      " [0 0]\n",
      " [0 0]\n",
      " [0 0]]\n",
      "[[1 0]\n",
      " [1 1]\n",
      " [0 0]\n",
      " [1 1]\n",
      " [0 1]\n",
      " [0 0]\n",
      " [0 0]\n",
      " [0 0]]\n"
     ]
    },
    {
     "data": {
      "text/plain": [
       "array([ True,  True,  True,  True,  True,  True,  True,  True])"
      ]
     },
     "execution_count": 58,
     "metadata": {},
     "output_type": "execute_result"
    }
   ],
   "source": [
    "exact_perm_shift2(m, n, S, z, dtype) == exact_perm_shift3(m, n, S, z, dtype)"
   ]
  },
  {
   "cell_type": "code",
   "execution_count": 50,
   "metadata": {},
   "outputs": [],
   "source": [
    "def p_value_calc(args):\n",
    "    a,b = args\n",
    "    p=significance_of_mean(a,b, bins)[0]\n",
    "    return p\n",
    "\n",
    "def calibration_series_generator(A,B):\n",
    "    num_tests = A.shape[0]\n",
    "    for i in range(num_tests):\n",
    "        a_sample = A[i].tolist()\n",
    "        b_sample = B[i].tolist()\n",
    "        yield ([a_sample,b_sample])\n",
    "\n",
    "def calibration_test(A,B):\n",
    "    with cf.ProcessPoolExecutor(max_workers=multiprocessing.cpu_count()-1) as pool:\n",
    "        p_list = list(pool.map(p_value_calc, calibration_series_generator(A,B)))\n",
    "    return p_list"
   ]
  },
  {
   "cell_type": "code",
   "execution_count": null,
   "metadata": {},
   "outputs": [],
   "source": []
  },
  {
   "cell_type": "code",
   "execution_count": null,
   "metadata": {},
   "outputs": [],
   "source": [
    "np.random.randint(0,20,20)"
   ]
  },
  {
   "cell_type": "code",
   "execution_count": null,
   "metadata": {},
   "outputs": [],
   "source": [
    "np.random.beta(2.0, 5.0, 20)"
   ]
  },
  {
   "cell_type": "markdown",
   "metadata": {},
   "source": [
    "### A function that calculates the permutations of the sub-array on the GPU"
   ]
  },
  {
   "cell_type": "code",
   "execution_count": null,
   "metadata": {},
   "outputs": [],
   "source": [
    "@cuda.jit(\"(u2[:,:,:], u2, u2)\")\n",
    "def get_perumations(X, k_, z_):\n",
    "    n = X.shape[0]\n",
    "    m = X.shape[2]\n",
    "    \n",
    "    i = cuda.threadIdx.x + cuda.blockIdx.x * cuda.blockDim.x\n",
    "    j = cuda.threadIdx.y + cuda.blockIdx.y * cuda.blockDim.y\n",
    "    if j >= 2 and j < m + 1 and  i < n :\n",
    "        if i >= int(z_):\n",
    "            X[i, k_- 1, j-1] = X[i - int(z_), k_-2 ,j-2] +  X[i,k_-2,j-1]\n",
    "        else:\n",
    "            X[i, k_-1, j-1] = X[i,k_-2, j-1]"
   ]
  },
  {
   "cell_type": "markdown",
   "metadata": {},
   "source": [
    "# Exact permutation test with a parallelized(on the GPU) version of the shift-method"
   ]
  },
  {
   "cell_type": "code",
   "execution_count": null,
   "metadata": {},
   "outputs": [],
   "source": [
    "def exact_perm_numba_shift(m, n, S, z, dtype):\n",
    "    N_cuda = np.zeros([S + 1, m + n, m], dtype)\n",
    "    NN, NM = N_cuda[:,0,:].shape\n",
    "\n",
    "    for k in range(1,(m+n)+1):\n",
    "        N_cuda[:,k -1,0] = table(z[0:k],S )\n",
    "    \n",
    "    A = N_cuda.copy()\n",
    "    blockdim = (256, 3)\n",
    "    griddim = (int(np.ceil((NN )/ blockdim[0])), int(np.ceil(NM/blockdim[1] + 1)))\n",
    "    A = np.ascontiguousarray(A) \n",
    "    stream = cuda.stream()\n",
    "    dA = cuda.to_device(A, stream)\n",
    "    \n",
    "    for k in range(2, (m+n)+1):\n",
    "        dk = dtype(k) \n",
    "        dz = dtype(z[k - 1])\n",
    "        get_perumations[griddim,blockdim, stream](dA, dk, dz)\n",
    "    dA.to_host(stream)\n",
    "    stream.synchronize()\n",
    "    return A\n"
   ]
  },
  {
   "cell_type": "code",
   "execution_count": null,
   "metadata": {},
   "outputs": [],
   "source": [
    "plain_shift = list()\n",
    "gpu_shift = list()\n",
    "for args in args_list:\n",
    "    start = time.time()\n",
    "    N1 = exact_perm_shift1(*args)\n",
    "    end = time.time()\n",
    "    plain_shift.append(round(end - start,3))\n",
    "    print(\"Plain\")\n",
    "    print(round(end - start,3))\n",
    "    \n",
    "    start = time.time()\n",
    "    N2 = exact_perm_shift2(*args)\n",
    "    end = time.time()\n",
    "    plain_shift.append(round(end - start,3))\n",
    "    print(\"Plain\")\n",
    "    print(round(end - start,3))\n",
    "    \n",
    "    #start = time.time()\n",
    "    #A = exact_perm_numba_shift(*args)\n",
    "    #end = time.time()\n",
    "    #gpu_shift.append(round(end - start,3))\n",
    "    #print(\"GPU\")\n",
    "    #print(round(end - start,3))\n",
    "    \n",
    "    #print(np.allclose(A[:,:,-1], N[:,:,-1]))\n",
    "    print(np.allclose(N2, N1))\n",
    "    \n",
    "    "
   ]
  },
  {
   "cell_type": "code",
   "execution_count": null,
   "metadata": {},
   "outputs": [],
   "source": [
    "plt.plot(listsizes, plain_shift, 'r-', label='Plain shift-method')\n",
    "plt.plot(listsizes, gpu_shift, 'g-', label='GPU shift-method')\n",
    "plt.legend(loc='upper left')\n",
    "plt.xlabel(\"Sample size\")\n",
    "plt.ylabel(\"Time(s)\")\n",
    "plt.savefig(\"figures/comparison\")\n",
    "plt.show()"
   ]
  },
  {
   "cell_type": "code",
   "execution_count": null,
   "metadata": {},
   "outputs": [],
   "source": []
  }
 ],
 "metadata": {
  "kernelspec": {
   "display_name": "Python (kth-cluster)",
   "language": "python",
   "name": "kth-cluster"
  },
  "language_info": {
   "codemirror_mode": {
    "name": "ipython",
    "version": 3
   },
   "file_extension": ".py",
   "mimetype": "text/x-python",
   "name": "python",
   "nbconvert_exporter": "python",
   "pygments_lexer": "ipython3",
   "version": "3.6.8"
  }
 },
 "nbformat": 4,
 "nbformat_minor": 2
}
