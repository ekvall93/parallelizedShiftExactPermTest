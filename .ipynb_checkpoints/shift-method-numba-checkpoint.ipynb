{
 "cells": [
  {
   "cell_type": "code",
   "execution_count": 1,
   "metadata": {},
   "outputs": [],
   "source": [
    "import numpy as np\n",
    "from numba import cuda, uint16, float64, int16\n",
    "from collections import Counter\n",
    "import time"
   ]
  },
  {
   "cell_type": "markdown",
   "metadata": {},
   "source": [
    "### Synthetic data"
   ]
  },
  {
   "cell_type": "code",
   "execution_count": 2,
   "metadata": {},
   "outputs": [],
   "source": [
    "listsizes = [20,60,120,160,200]\n",
    "args_list = list()\n",
    "for ls in listsizes:\n",
    "    x = list(np.random.randint(0,400,ls))\n",
    "    y = list(np.random.randint(0,200,ls))\n",
    "    m = len(x)\n",
    "    n = len(y)\n",
    "    z = x + y;z.sort()\n",
    "    S = sum(z[m:])\n",
    "    dtype = np.uint16\n",
    "    args_list.append([m,n,S,z,dtype])\n"
   ]
  },
  {
   "cell_type": "markdown",
   "metadata": {},
   "source": [
    "### Mimic R's \"table(factor(x, y))\" function"
   ]
  },
  {
   "cell_type": "code",
   "execution_count": 3,
   "metadata": {},
   "outputs": [],
   "source": [
    "def table(val, S):\n",
    "    table = np.zeros(S + 1)\n",
    "    for e in val:\n",
    "        table[e] +=1\n",
    "    return table"
   ]
  },
  {
   "cell_type": "markdown",
   "metadata": {},
   "source": [
    "### Shift-function "
   ]
  },
  {
   "cell_type": "code",
   "execution_count": 4,
   "metadata": {},
   "outputs": [],
   "source": [
    "def shift(v, i): return np.pad(v[0:len(v) - i], (i,0), 'constant')"
   ]
  },
  {
   "cell_type": "markdown",
   "metadata": {},
   "source": [
    "# Exact permutation test with the shift-method"
   ]
  },
  {
   "cell_type": "code",
   "execution_count": 5,
   "metadata": {},
   "outputs": [],
   "source": [
    "def exact_perm_shift(m, n, S, z, dtype):\n",
    "    N = np.zeros([S + 1, m + n, m], dtype)\n",
    "    for k in range(1,(m+n)+1):\n",
    "        N[:,k -1,0] = table(z[0:k],S)\n",
    "    \n",
    "    for k in range(2,(m+n)+1):\n",
    "        for j in range(2, m +1):\n",
    "            N[:,k-1,j-1] = shift(N[:,k-2,j-2], z[k -1]) + N[:,k-2,j-1]\n",
    "    return N"
   ]
  },
  {
   "cell_type": "markdown",
   "metadata": {},
   "source": [
    "### A function that calculates the permutations of the sub-array on the GPU"
   ]
  },
  {
   "cell_type": "code",
   "execution_count": 6,
   "metadata": {},
   "outputs": [],
   "source": [
    "@cuda.jit(\"(u2[:,:,:], u2, u2)\")\n",
    "def get_perumations(X, k_, z_):\n",
    "    n = X.shape[0]\n",
    "    m = X.shape[2]\n",
    "    \n",
    "    i = cuda.threadIdx.x + cuda.blockIdx.x * cuda.blockDim.x\n",
    "    j = cuda.threadIdx.y + cuda.blockIdx.y * cuda.blockDim.y\n",
    "    if j >= 2 and j < m + 1 and  i < n :\n",
    "        if i >= int(z_):\n",
    "            X[i, k_- 1, j-1] = X[i - int(z_), k_-2 ,j-2] +  X[i,k_-2,j-1]\n",
    "        else:\n",
    "            X[i, k_-1, j-1] = X[i,k_-2, j-1]"
   ]
  },
  {
   "cell_type": "markdown",
   "metadata": {},
   "source": [
    "# Exact permutation test with a parallelized(on the GPU) version of the shift-method"
   ]
  },
  {
   "cell_type": "code",
   "execution_count": 7,
   "metadata": {},
   "outputs": [],
   "source": [
    "def exact_perm_numba_shift(m, n, S, z, dtype):\n",
    "    N_cuda = np.zeros([S + 1, m + n, m], dtype)\n",
    "    NN, NM = N_cuda[:,0,:].shape\n",
    "\n",
    "    for k in range(1,(m+n)+1):\n",
    "        N_cuda[:,k -1,0] = table(z[0:k],S )\n",
    "    \n",
    "    A = N_cuda.copy()\n",
    "    blockdim = (256, 3)\n",
    "    griddim = (int(np.ceil((NN )/ blockdim[0])), int(np.ceil(NM/blockdim[1] + 1)))\n",
    "    A = np.ascontiguousarray(A) \n",
    "    stream = cuda.stream()\n",
    "    dA = cuda.to_device(A, stream)\n",
    "    \n",
    "    for k in range(2, (m+n)+1):\n",
    "        dk = np.uint16(k) \n",
    "        dz = np.uint16(z[k - 1])\n",
    "        get_perumations[griddim,blockdim, stream](dA, dk, dz)\n",
    "    dA.to_host(stream)\n",
    "    stream.synchronize()\n",
    "    return A\n"
   ]
  },
  {
   "cell_type": "code",
   "execution_count": null,
   "metadata": {},
   "outputs": [
    {
     "name": "stdout",
     "output_type": "stream",
     "text": [
      "Plain\n",
      "0.037\n",
      "GPU\n",
      "0.03\n",
      "True\n",
      "Plain\n",
      "1.396\n",
      "GPU\n",
      "0.154\n",
      "True\n",
      "Plain\n",
      "21.636\n",
      "GPU\n",
      "1.385\n",
      "True\n",
      "Plain\n",
      "56.068\n",
      "GPU\n",
      "3.223\n",
      "True\n"
     ]
    }
   ],
   "source": [
    "plain_shift = list()\n",
    "gpu_shift = list()\n",
    "for args in args_list:\n",
    "    start = time.time()\n",
    "    N = exact_perm_shift(*args)\n",
    "    end = time.time()\n",
    "    plain_shift.append(round(end - start,3))\n",
    "    print(\"Plain\")\n",
    "    print(round(end - start,3))\n",
    "    \n",
    "    start = time.time()\n",
    "    A = exact_perm_numba_shift(*args)\n",
    "    end = time.time()\n",
    "    gpu_shift.append(round(end - start,3))\n",
    "    print(\"GPU\")\n",
    "    print(round(end - start,3))\n",
    "    \n",
    "    print(np.allclose(A[:,:,-1], N[:,:,-1]))\n",
    "    \n",
    "    "
   ]
  },
  {
   "cell_type": "code",
   "execution_count": null,
   "metadata": {},
   "outputs": [],
   "source": [
    "import matplotlib.pyplot as plt\n",
    "\n",
    "plt.plot(listsizes, plain_shift, 'r-', label='Plain shift-method')\n",
    "plt.plot(listsizes, gpu_shift, 'g-', label='GPU shift-method')\n",
    "plt.legend(loc='upper left')\n",
    "plt.xlabel(\"Sample size\")\n",
    "plt.ylabel(\"Time(s)\")\n",
    "plt.show()"
   ]
  }
 ],
 "metadata": {
  "kernelspec": {
   "display_name": "Python (kth-cluster)",
   "language": "python",
   "name": "kth-cluster"
  },
  "language_info": {
   "codemirror_mode": {
    "name": "ipython",
    "version": 3
   },
   "file_extension": ".py",
   "mimetype": "text/x-python",
   "name": "python",
   "nbconvert_exporter": "python",
   "pygments_lexer": "ipython3",
   "version": "3.6.8"
  }
 },
 "nbformat": 4,
 "nbformat_minor": 2
}
