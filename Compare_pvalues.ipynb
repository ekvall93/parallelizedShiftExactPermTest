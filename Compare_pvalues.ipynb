{
 "cells": [
  {
   "cell_type": "code",
   "execution_count": 1,
   "metadata": {},
   "outputs": [],
   "source": [
    "import numpy as np\n",
    "import time"
   ]
  },
  {
   "cell_type": "code",
   "execution_count": 2,
   "metadata": {},
   "outputs": [],
   "source": [
    "from utils import significance_of_mean, significance_of_mean_cuda"
   ]
  },
  {
   "cell_type": "code",
   "execution_count": 3,
   "metadata": {},
   "outputs": [],
   "source": [
    "A = np.asarray([np.random.randint(0,200,50) for _ in range(10)])\n",
    "B = np.asarray([np.random.randint(0,200,50) for _ in range(10)])"
   ]
  },
  {
   "cell_type": "code",
   "execution_count": 4,
   "metadata": {},
   "outputs": [],
   "source": [
    "PC = list()\n",
    "P = list()\n",
    "for a,b in zip(A,B):\n",
    "    bins = 200\n",
    "    \n",
    "    pc = significance_of_mean_cuda(list(a),list(b),bins)\n",
    "\n",
    "    \n",
    "    p = significance_of_mean(a,b,bins)[0]\n",
    "    \n",
    "    PC.append(pc)\n",
    "    P.append(p)"
   ]
  },
  {
   "cell_type": "code",
   "execution_count": 5,
   "metadata": {},
   "outputs": [
    {
     "data": {
      "text/plain": [
       "True"
      ]
     },
     "execution_count": 5,
     "metadata": {},
     "output_type": "execute_result"
    }
   ],
   "source": [
    "np.allclose(PC,P)"
   ]
  }
 ],
 "metadata": {
  "kernelspec": {
   "display_name": "Python (kth-cluster)",
   "language": "python",
   "name": "kth-cluster"
  },
  "language_info": {
   "codemirror_mode": {
    "name": "ipython",
    "version": 3
   },
   "file_extension": ".py",
   "mimetype": "text/x-python",
   "name": "python",
   "nbconvert_exporter": "python",
   "pygments_lexer": "ipython3",
   "version": "3.6.8"
  }
 },
 "nbformat": 4,
 "nbformat_minor": 2
}
