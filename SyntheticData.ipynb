{
 "cells": [
  {
   "cell_type": "code",
   "execution_count": 1,
   "metadata": {},
   "outputs": [],
   "source": [
    "from significance_of_mean_cuda import significance_of_mean_cuda\n",
    "from utils import significance_of_mean\n",
    "import numpy as np\n",
    "import time\n",
    "import multiprocessing\n",
    "import concurrent.futures as cf\n",
    "import matplotlib.pyplot as plt"
   ]
  },
  {
   "cell_type": "markdown",
   "metadata": {},
   "source": [
    "### Get synthetic data"
   ]
  },
  {
   "cell_type": "code",
   "execution_count": 2,
   "metadata": {},
   "outputs": [],
   "source": [
    "np.random.seed(1)\n",
    "A = np.asarray([np.random.beta(2.0,5.0,20) for _ in range(10000)])\n",
    "B = np.asarray([np.random.beta(2.0,5.0,20) for _ in range(10000)])\n",
    "bins = 200"
   ]
  },
  {
   "cell_type": "markdown",
   "metadata": {},
   "source": [
    "# Run parallelized version of the Shift-method"
   ]
  },
  {
   "cell_type": "code",
   "execution_count": 3,
   "metadata": {},
   "outputs": [
    {
     "name": "stdout",
     "output_type": "stream",
     "text": [
      "14.397771835327148\n"
     ]
    }
   ],
   "source": [
    "start = time.time()\n",
    "SGM = significance_of_mean_cuda(bins,dtype_v=np.uint16,dtype_A=np.uint32)\n",
    "PC = SGM.run(A,B)\n",
    "end = time.time()\n",
    "print(end - start)"
   ]
  },
  {
   "cell_type": "markdown",
   "metadata": {},
   "source": [
    "# Run regular non-parallelized version but parallelize over samples"
   ]
  },
  {
   "cell_type": "code",
   "execution_count": 4,
   "metadata": {},
   "outputs": [
    {
     "data": {
      "text/plain": [
       "6"
      ]
     },
     "execution_count": 4,
     "metadata": {},
     "output_type": "execute_result"
    }
   ],
   "source": [
    "multiprocessing.cpu_count()"
   ]
  },
  {
   "cell_type": "markdown",
   "metadata": {},
   "source": [
    "#### The calculations are parallelized over the samples on five cores in total. "
   ]
  },
  {
   "cell_type": "code",
   "execution_count": 5,
   "metadata": {},
   "outputs": [],
   "source": [
    "def p_value_calc(args):\n",
    "    a,b = args\n",
    "    p=significance_of_mean(a,b, bins)[0]\n",
    "    return p\n",
    "\n",
    "def calibration_series_generator(A,B):\n",
    "    num_tests = A.shape[0]\n",
    "    for i in range(num_tests):\n",
    "        a_sample = A[i].tolist()\n",
    "        b_sample = B[i].tolist()\n",
    "        yield ([a_sample,b_sample])\n",
    "\n",
    "def calibration_test(A,B):\n",
    "    with cf.ProcessPoolExecutor(max_workers=multiprocessing.cpu_count()-1) as pool:\n",
    "        p_list = list(pool.map(p_value_calc, calibration_series_generator(A,B)))\n",
    "    return p_list"
   ]
  },
  {
   "cell_type": "code",
   "execution_count": 6,
   "metadata": {},
   "outputs": [
    {
     "name": "stdout",
     "output_type": "stream",
     "text": [
      "107.3141598701477\n"
     ]
    }
   ],
   "source": [
    "start = time.time()\n",
    "P = list()\n",
    "P = calibration_test(A,B)\n",
    "end = time.time()\n",
    "print(end - start)"
   ]
  },
  {
   "cell_type": "markdown",
   "metadata": {},
   "source": [
    "### The parallelized version is faster and yields the same p-values "
   ]
  },
  {
   "cell_type": "code",
   "execution_count": 7,
   "metadata": {},
   "outputs": [
    {
     "data": {
      "text/plain": [
       "True"
      ]
     },
     "execution_count": 7,
     "metadata": {},
     "output_type": "execute_result"
    }
   ],
   "source": [
    "np.allclose(PC,P)"
   ]
  },
  {
   "cell_type": "markdown",
   "metadata": {},
   "source": [
    "### Comparison of increasing sample sizes. Sample-sizes larger than 160 yields memory error on the non-parallelized version, so the experiment stops there."
   ]
  },
  {
   "cell_type": "code",
   "execution_count": 8,
   "metadata": {},
   "outputs": [
    {
     "name": "stdout",
     "output_type": "stream",
     "text": [
      "Plain\n",
      "0.176\n",
      "GPU\n",
      "0.027\n",
      "True\n",
      "Plain\n",
      "1.939\n",
      "GPU\n",
      "0.105\n",
      "True\n",
      "Plain\n",
      "20.915\n",
      "GPU\n",
      "0.885\n",
      "True\n",
      "Plain\n",
      "54.211\n",
      "GPU\n",
      "2.096\n",
      "True\n"
     ]
    }
   ],
   "source": [
    "listsizes = [20,60,120,160]\n",
    "plain_shift = list()\n",
    "gpu_shift = list()\n",
    "bins = 200\n",
    "for size in listsizes:\n",
    "    np.random.seed(1)\n",
    "    A = np.asarray([np.random.beta(2.0,5.0,size) for _ in range(5)])\n",
    "    B = np.asarray([np.random.beta(2.0,5.0,size) for _ in range(5)])\n",
    "    start = time.time()\n",
    "    P = calibration_test(A,B)\n",
    "    end = time.time()\n",
    "    plain_shift.append(round(end - start,3))\n",
    "    print(\"Plain\")\n",
    "    print(round(end - start,3))\n",
    "    \n",
    "    start = time.time()\n",
    "    SGM = significance_of_mean_cuda(bins,dtype_v=np.uint32,dtype_A=np.float64)\n",
    "    PC = SGM.run(A,B)\n",
    "    end = time.time()\n",
    "    end = time.time()\n",
    "    gpu_shift.append(round(end - start,3))\n",
    "    print(\"GPU\")\n",
    "    print(round(end - start,3))\n",
    "    \n",
    "    print(np.allclose(PC,P))"
   ]
  },
  {
   "cell_type": "code",
   "execution_count": 10,
   "metadata": {},
   "outputs": [
    {
     "data": {
      "image/png": "[encoded data removed]",
      "text/plain": [
       "<Figure size 432x288 with 1 Axes>"
      ]
     },
     "metadata": {
      "needs_background": "light"
     },
     "output_type": "display_data"
    }
   ],
   "source": [
    "plt.plot(listsizes, plain_shift, 'r-', label='Non-parallelized')\n",
    "plt.plot(listsizes, gpu_shift, 'g-', label='GPU shift-method')\n",
    "plt.legend(loc='upper left')\n",
    "plt.xlabel(\"Sample size\")\n",
    "plt.ylabel(\"Time(s)\")\n",
    "plt.savefig(\"figures/comparison\")\n",
    "plt.show()"
   ]
  },
  {
   "cell_type": "code",
   "execution_count": null,
   "metadata": {},
   "outputs": [],
   "source": []
  }
 ],
 "metadata": {
  "kernelspec": {
   "display_name": "Python (kth-cluster)",
   "language": "python",
   "name": "kth-cluster"
  },
  "language_info": {
   "codemirror_mode": {
    "name": "ipython",
    "version": 3
   },
   "file_extension": ".py",
   "mimetype": "text/x-python",
   "name": "python",
   "nbconvert_exporter": "python",
   "pygments_lexer": "ipython3",
   "version": "3.6.8"
  }
 },
 "nbformat": 4,
 "nbformat_minor": 2
}
